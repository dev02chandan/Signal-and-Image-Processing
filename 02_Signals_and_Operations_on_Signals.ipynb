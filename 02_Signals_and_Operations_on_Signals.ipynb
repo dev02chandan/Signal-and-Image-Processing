{
  "nbformat": 4,
  "nbformat_minor": 0,
  "metadata": {
    "colab": {
      "name": "2 - Signals and Operations on Signals.ipynb",
      "provenance": [],
      "authorship_tag": "ABX9TyMWFJ9nPbZB1tO64wpXIv8u",
      "include_colab_link": true
    },
    "kernelspec": {
      "name": "python3",
      "display_name": "Python 3"
    },
    "language_info": {
      "name": "python"
    }
  },
  "cells": [
    {
      "cell_type": "markdown",
      "metadata": {
        "id": "view-in-github",
        "colab_type": "text"
      },
      "source": [
        "<a href=\"https://colab.research.google.com/github/dev02chandan/Signal-and-Image-Processing/blob/main/2_Signals_and_Operations_on_Signals.ipynb\" target=\"_parent\"><img src=\"https://colab.research.google.com/assets/colab-badge.svg\" alt=\"Open In Colab\"/></a>"
      ]
    },
    {
      "cell_type": "markdown",
      "source": [
        "###Imports"
      ],
      "metadata": {
        "id": "ECxy0Rqh4zYt"
      }
    },
    {
      "cell_type": "code",
      "execution_count": null,
      "metadata": {
        "id": "B6hcN4tYe0Qo"
      },
      "outputs": [],
      "source": [
        "import numpy as np\n",
        "import matplotlib.pyplot as plt\n",
        "import warnings \n",
        "from scipy import signal as sg\n",
        "warnings.filterwarnings('ignore')\n"
      ]
    },
    {
      "cell_type": "markdown",
      "source": [
        "###To Generate Ramp Function"
      ],
      "metadata": {
        "id": "1dgf4syIfg1c"
      }
    },
    {
      "cell_type": "code",
      "source": [
        "# Method 1: Generate Unit Ramp Signal\n",
        "\n",
        "n = np.arange(-10, 11) #define discrete time axis\n",
        "r = np.where(n>=0 , n , 0) # ramp r=n for n>=0 \n",
        "print(r)\n",
        "plt.stem(n,r, linefmt=\"g*-\" , markerfmt=\"D\")"
      ],
      "metadata": {
        "colab": {
          "base_uri": "https://localhost:8080/",
          "height": 320
        },
        "id": "2GATuqFmfe4R",
        "outputId": "571a08b7-abcc-47c3-b8ba-c7b7dec00bdb"
      },
      "execution_count": null,
      "outputs": [
        {
          "output_type": "stream",
          "name": "stdout",
          "text": [
            "[ 0  0  0  0  0  0  0  0  0  0  0  1  2  3  4  5  6  7  8  9 10]\n"
          ]
        },
        {
          "output_type": "execute_result",
          "data": {
            "text/plain": [
              "<StemContainer object of 3 artists>"
            ]
          },
          "metadata": {},
          "execution_count": 126
        },
        {
          "output_type": "display_data",
          "data": {
            "image/png": "[encoded data removed]",
            "text/plain": [
              "<Figure size 432x288 with 1 Axes>"
            ]
          },
          "metadata": {
            "needs_background": "light"
          }
        }
      ]
    },
    {
      "cell_type": "code",
      "source": [
        "#Method 2\n",
        "n = [x for x in range(-10,11)] # Discrete time axis\n",
        "\n",
        "r = [i if i>0 else 0 for i in n]\n",
        "\n",
        "print(r)\n",
        "\n",
        "plt.stem(n,r, linefmt=\"y*-\" , markerfmt=\"D\")"
      ],
      "metadata": {
        "colab": {
          "base_uri": "https://localhost:8080/",
          "height": 320
        },
        "id": "OmzCi2r9gXOQ",
        "outputId": "4f48ab04-bec8-42a9-df26-906cfe83a194"
      },
      "execution_count": null,
      "outputs": [
        {
          "output_type": "stream",
          "name": "stdout",
          "text": [
            "[0, 0, 0, 0, 0, 0, 0, 0, 0, 0, 0, 1, 2, 3, 4, 5, 6, 7, 8, 9, 10]\n"
          ]
        },
        {
          "output_type": "execute_result",
          "data": {
            "text/plain": [
              "<StemContainer object of 3 artists>"
            ]
          },
          "metadata": {},
          "execution_count": 125
        },
        {
          "output_type": "display_data",
          "data": {
            "image/png": "[encoded data removed]",
            "text/plain": [
              "<Figure size 432x288 with 1 Axes>"
            ]
          },
          "metadata": {
            "needs_background": "light"
          }
        }
      ]
    },
    {
      "cell_type": "code",
      "source": [
        "# Method 3: Generate Ramp Signal\n",
        "\n",
        "n1 = np.linspace(-5,10,16)\n",
        "r1 = n1*(n1>=0)\n",
        "\n",
        "print(n1)\n",
        "print(r1)\n",
        "\n",
        "plt.stem(n1, r1, linefmt=\"m*-\" , markerfmt=\"D\")"
      ],
      "metadata": {
        "colab": {
          "base_uri": "https://localhost:8080/",
          "height": 338
        },
        "id": "RnXkOH4Vg0LQ",
        "outputId": "98ce7cd7-8e63-4bfd-a244-43e5b03ecad1"
      },
      "execution_count": null,
      "outputs": [
        {
          "output_type": "stream",
          "name": "stdout",
          "text": [
            "[-5. -4. -3. -2. -1.  0.  1.  2.  3.  4.  5.  6.  7.  8.  9. 10.]\n",
            "[-0. -0. -0. -0. -0.  0.  1.  2.  3.  4.  5.  6.  7.  8.  9. 10.]\n"
          ]
        },
        {
          "output_type": "execute_result",
          "data": {
            "text/plain": [
              "<StemContainer object of 3 artists>"
            ]
          },
          "metadata": {},
          "execution_count": 127
        },
        {
          "output_type": "display_data",
          "data": {
            "image/png": "[encoded data removed]",
            "text/plain": [
              "<Figure size 432x288 with 1 Axes>"
            ]
          },
          "metadata": {
            "needs_background": "light"
          }
        }
      ]
    },
    {
      "cell_type": "markdown",
      "source": [
        "###Generate Unit Step Signal"
      ],
      "metadata": {
        "id": "ziTRPJI7iRZO"
      }
    },
    {
      "cell_type": "code",
      "source": [
        "# Method 1\n",
        "\n",
        "u = [1 for n in range(-10 , 10) if n>=0]\n",
        "\n",
        "print(u)\n",
        "plt.stem(u, linefmt=\"g*-\" , markerfmt=\"D\")\n",
        "\n",
        "plt.xticks(np.arange(-10,10))\n"
      ],
      "metadata": {
        "colab": {
          "base_uri": "https://localhost:8080/",
          "height": 672
        },
        "id": "ILCy1FQLiXN1",
        "outputId": "5a8b81e1-84ec-43d3-e4d6-0f5b4788f9a6"
      },
      "execution_count": null,
      "outputs": [
        {
          "output_type": "stream",
          "name": "stdout",
          "text": [
            "[1, 1, 1, 1, 1, 1, 1, 1, 1, 1]\n"
          ]
        },
        {
          "output_type": "execute_result",
          "data": {
            "text/plain": [
              "([<matplotlib.axis.XTick at 0x7f0d043f5690>,\n",
              "  <matplotlib.axis.XTick at 0x7f0d043f5e50>,\n",
              "  <matplotlib.axis.XTick at 0x7f0d031b1f10>,\n",
              "  <matplotlib.axis.XTick at 0x7f0d0316edd0>,\n",
              "  <matplotlib.axis.XTick at 0x7f0d03174390>,\n",
              "  <matplotlib.axis.XTick at 0x7f0d03174850>,\n",
              "  <matplotlib.axis.XTick at 0x7f0d03174dd0>,\n",
              "  <matplotlib.axis.XTick at 0x7f0d0317b350>,\n",
              "  <matplotlib.axis.XTick at 0x7f0d0317b890>,\n",
              "  <matplotlib.axis.XTick at 0x7f0d0317bdd0>,\n",
              "  <matplotlib.axis.XTick at 0x7f0d03182390>,\n",
              "  <matplotlib.axis.XTick at 0x7f0d03182850>,\n",
              "  <matplotlib.axis.XTick at 0x7f0d03182d90>,\n",
              "  <matplotlib.axis.XTick at 0x7f0d03182790>,\n",
              "  <matplotlib.axis.XTick at 0x7f0d0317b410>,\n",
              "  <matplotlib.axis.XTick at 0x7f0d031744d0>,\n",
              "  <matplotlib.axis.XTick at 0x7f0d0318a550>,\n",
              "  <matplotlib.axis.XTick at 0x7f0d0318aa90>,\n",
              "  <matplotlib.axis.XTick at 0x7f0d0318ae50>,\n",
              "  <matplotlib.axis.XTick at 0x7f0d03193550>],\n",
              " <a list of 20 Text major ticklabel objects>)"
            ]
          },
          "metadata": {},
          "execution_count": 121
        },
        {
          "output_type": "display_data",
          "data": {
            "image/png": "[encoded data removed]",
            "text/plain": [
              "<Figure size 432x288 with 1 Axes>"
            ]
          },
          "metadata": {
            "needs_background": "light"
          }
        }
      ]
    },
    {
      "cell_type": "code",
      "source": [
        "#Method 2\n",
        "n = np.arange(-5,10,1)\n",
        "u = np.where(n>=0 , 1 ,0)\n",
        "plt.stem(n,u, linefmt=\"m*-\" , markerfmt=\"D\")"
      ],
      "metadata": {
        "colab": {
          "base_uri": "https://localhost:8080/",
          "height": 303
        },
        "id": "-yUpoR7Ui2T2",
        "outputId": "307fec53-a999-4a3c-90f5-0fe9c6e3f243"
      },
      "execution_count": null,
      "outputs": [
        {
          "output_type": "execute_result",
          "data": {
            "text/plain": [
              "<StemContainer object of 3 artists>"
            ]
          },
          "metadata": {},
          "execution_count": 124
        },
        {
          "output_type": "display_data",
          "data": {
            "image/png": "[encoded data removed]",
            "text/plain": [
              "<Figure size 432x288 with 1 Axes>"
            ]
          },
          "metadata": {
            "needs_background": "light"
          }
        }
      ]
    },
    {
      "cell_type": "markdown",
      "source": [
        "###Generate Unit Impulse"
      ],
      "metadata": {
        "id": "fKqFsqxRjPw_"
      }
    },
    {
      "cell_type": "code",
      "source": [
        "#Method 1\n",
        "\n",
        "d = [1 for n in range(-20,10) if n==1]\n",
        "\n",
        "print(d)\n",
        "\n",
        "plt.stem(d, linefmt=\"g*-\" , markerfmt=\"D\")\n"
      ],
      "metadata": {
        "colab": {
          "base_uri": "https://localhost:8080/",
          "height": 320
        },
        "id": "QlRt94Q1jOum",
        "outputId": "8fba1865-1086-44d1-c538-67fad36200ce"
      },
      "execution_count": null,
      "outputs": [
        {
          "output_type": "stream",
          "name": "stdout",
          "text": [
            "[1]\n"
          ]
        },
        {
          "output_type": "execute_result",
          "data": {
            "text/plain": [
              "<StemContainer object of 3 artists>"
            ]
          },
          "metadata": {},
          "execution_count": 116
        },
        {
          "output_type": "display_data",
          "data": {
            "image/png": "[encoded data removed]",
            "text/plain": [
              "<Figure size 432x288 with 1 Axes>"
            ]
          },
          "metadata": {
            "needs_background": "light"
          }
        }
      ]
    },
    {
      "cell_type": "code",
      "source": [
        "#Method 2\n",
        "\n",
        "d0 = sg.unit_impulse(10) \n",
        "plt.stem(d0, linefmt=\"y*-\" , markerfmt=\"D\")"
      ],
      "metadata": {
        "colab": {
          "base_uri": "https://localhost:8080/",
          "height": 303
        },
        "id": "XQl1jrojjb3X",
        "outputId": "ade76173-a128-4108-ee01-7b356c257b24"
      },
      "execution_count": null,
      "outputs": [
        {
          "output_type": "execute_result",
          "data": {
            "text/plain": [
              "<StemContainer object of 3 artists>"
            ]
          },
          "metadata": {},
          "execution_count": 118
        },
        {
          "output_type": "display_data",
          "data": {
            "image/png": "[encoded data removed]",
            "text/plain": [
              "<Figure size 432x288 with 1 Axes>"
            ]
          },
          "metadata": {
            "needs_background": "light"
          }
        }
      ]
    },
    {
      "cell_type": "code",
      "source": [
        "#Method 3\n",
        "\n",
        "d1 = sg.unit_impulse(10,2)\n",
        "print(d1)\n",
        "plt.subplot(1,2,1)\n",
        "plt.plot(d1, \"g*-\")\n",
        "plt.subplot(1,2,2)\n",
        "plt.stem(d1, linefmt=\"y*-\" , markerfmt=\"D\")"
      ],
      "metadata": {
        "colab": {
          "base_uri": "https://localhost:8080/",
          "height": 320
        },
        "id": "9XHhFB9EjgjI",
        "outputId": "6ad7b529-8b36-48cb-f7a8-4ef073266011"
      },
      "execution_count": null,
      "outputs": [
        {
          "output_type": "stream",
          "name": "stdout",
          "text": [
            "[0. 0. 1. 0. 0. 0. 0. 0. 0. 0.]\n"
          ]
        },
        {
          "output_type": "execute_result",
          "data": {
            "text/plain": [
              "<StemContainer object of 3 artists>"
            ]
          },
          "metadata": {},
          "execution_count": 120
        },
        {
          "output_type": "display_data",
          "data": {
            "image/png": "[encoded data removed]",
            "text/plain": [
              "<Figure size 432x288 with 2 Axes>"
            ]
          },
          "metadata": {
            "needs_background": "light"
          }
        }
      ]
    },
    {
      "cell_type": "markdown",
      "source": [
        "###Discrete Exponential"
      ],
      "metadata": {
        "id": "2i01mh2TS68h"
      }
    },
    {
      "cell_type": "code",
      "source": [
        "n = [x for x in range(0,11)]\n",
        "\n",
        "\n",
        "a1 = 0.5\n",
        "a2 = -0.5\n",
        "a3 = 1.5\n",
        "a4 = -1.5"
      ],
      "metadata": {
        "id": "-via2C8pS9p6"
      },
      "execution_count": null,
      "outputs": []
    },
    {
      "cell_type": "code",
      "source": [
        "x1 = [a1**x for x in n]\n",
        "\n",
        "x2 = [a2**x for x in n]\n",
        "\n",
        "x3 = [a3**x for x in n]\n",
        "\n",
        "x4 = [a4**x for x in n]\n"
      ],
      "metadata": {
        "id": "e_MfSdmZZx4W"
      },
      "execution_count": null,
      "outputs": []
    },
    {
      "cell_type": "code",
      "source": [
        "plt.figure(figsize=(20,14))\n",
        "\n",
        "\n",
        "plt.subplot(2,2,1)\n",
        "plt.xlabel(\"n (0 - 10) --->\")\n",
        "plt.ylabel(\"e^a values --->\")\n",
        "plt.title(\"Exponential for 0<a<1\")\n",
        "plt.stem(n,x1, linefmt=\"r*-\" , markerfmt=\"D\")\n",
        "\n",
        "\n",
        "plt.subplot(2,2,2)\n",
        "plt.xlabel(\"n (0 - 10) --->\")\n",
        "plt.ylabel(\"e^a values --->\")\n",
        "plt.title(\"Exponential for -1<a<0\")\n",
        "plt.stem(n,x2, linefmt=\"y*-\" , markerfmt=\"D\")\n",
        "\n",
        "\n",
        "plt.subplot(2,2,3)\n",
        "plt.xlabel(\"n (0 - 10) --->\")\n",
        "plt.ylabel(\"e^a values --->\")\n",
        "plt.title(\"Exponential for a>1\")\n",
        "plt.stem(n,x3, linefmt=\"g*-\" , markerfmt=\"D\")\n",
        "\n",
        "\n",
        "plt.subplot(2,2,4)\n",
        "plt.xlabel(\"n (0 - 10) --->\")\n",
        "plt.ylabel(\"e^a values --->\")\n",
        "plt.title(\"Exponential for a<-1\")\n",
        "plt.stem(n,x4, linefmt=\"b*-\" , markerfmt=\"D\")\n"
      ],
      "metadata": {
        "colab": {
          "base_uri": "https://localhost:8080/",
          "height": 780
        },
        "id": "F2GNnJFWZ0AD",
        "outputId": "d8538ccc-dbb0-437b-f7aa-d2439003e124"
      },
      "execution_count": null,
      "outputs": [
        {
          "output_type": "execute_result",
          "data": {
            "text/plain": [
              "<StemContainer object of 3 artists>"
            ]
          },
          "metadata": {},
          "execution_count": 114
        },
        {
          "output_type": "display_data",
          "data": {
            "image/png": "[encoded data removed]",
            "text/plain": [
              "<Figure size 1440x1008 with 4 Axes>"
            ]
          },
          "metadata": {
            "needs_background": "light"
          }
        }
      ]
    },
    {
      "cell_type": "markdown",
      "source": [
        "###Time Reversed Signal"
      ],
      "metadata": {
        "id": "yCl6ztV2bXxL"
      }
    },
    {
      "cell_type": "code",
      "source": [
        "n = np.arange(-4,6)\n",
        "\n",
        "x = [0,0,0,0,2,1,2,1,0,0]"
      ],
      "metadata": {
        "id": "dLQaEuUzXZH3"
      },
      "execution_count": null,
      "outputs": []
    },
    {
      "cell_type": "code",
      "source": [
        "plt.figure(figsize=(20,7))\n",
        "\n",
        "plt.subplot(1,2,1)\n",
        "plt.xlabel(\"n ( -4 -> 6 ) --->\")\n",
        "plt.ylabel(\"Value of signal\")\n",
        "plt.title(\"Normal Signal\")\n",
        "plt.stem(n,x, linefmt=\"g*-\" , markerfmt=\"D\")\n",
        "\n",
        "plt.subplot(1,2,2)\n",
        "plt.xlabel(\"n ( -4 -> 6 ) --->\")\n",
        "plt.ylabel(\"Value of signal\")\n",
        "plt.title(\"Time Reversed Signal\")\n",
        "plt.stem(-n, x, linefmt=\"y*-\" , markerfmt=\"D\")"
      ],
      "metadata": {
        "colab": {
          "base_uri": "https://localhost:8080/",
          "height": 442
        },
        "id": "3BnBSwQ6aTbJ",
        "outputId": "4abcccff-5442-4642-aad1-8c1f167bbf26"
      },
      "execution_count": null,
      "outputs": [
        {
          "output_type": "execute_result",
          "data": {
            "text/plain": [
              "<StemContainer object of 3 artists>"
            ]
          },
          "metadata": {},
          "execution_count": 110
        },
        {
          "output_type": "display_data",
          "data": {
            "image/png": "[encoded data removed]",
            "text/plain": [
              "<Figure size 1440x504 with 2 Axes>"
            ]
          },
          "metadata": {
            "needs_background": "light"
          }
        }
      ]
    },
    {
      "cell_type": "markdown",
      "source": [
        "###Scalar Multiplication"
      ],
      "metadata": {
        "id": "GzUkDuKmbeG_"
      }
    },
    {
      "cell_type": "code",
      "source": [
        "n = np.arange(-4,6)\n",
        "\n",
        "x = [0,0,0,0,2,1,2,1,0,0]\n",
        "\n",
        "a1 = 0.5\n",
        "a1x = []\n",
        "for i in x:\n",
        "    a1x.append(a1*i)\n",
        "\n",
        "a2 = 2\n",
        "a2x = []\n",
        "for i in x:\n",
        "    a2x.append(a2*i)\n"
      ],
      "metadata": {
        "id": "2JNf45qpbBAE"
      },
      "execution_count": null,
      "outputs": []
    },
    {
      "cell_type": "code",
      "source": [
        "plt.figure(figsize=(15,7))\n",
        "\n",
        "plt.subplot(1,2,1)\n",
        "plt.xlabel(\"n ( -4 -> 6 ) --->\")\n",
        "plt.ylabel(\"Value of signal\")\n",
        "plt.title(\"a = 0.5\")\n",
        "plt.stem(n,a1x, linefmt=\"g*-\" , markerfmt=\"D\")\n",
        "\n",
        "\n",
        "plt.subplot(1,2,2)\n",
        "plt.xlabel(\"n ( -4 -> 6 ) --->\")\n",
        "plt.ylabel(\"Value of signal\")\n",
        "plt.title(\"a= 0.5\")\n",
        "plt.stem(n,a2x, linefmt=\"y*-\" , markerfmt=\"D\")"
      ],
      "metadata": {
        "colab": {
          "base_uri": "https://localhost:8080/",
          "height": 496
        },
        "id": "puNJz-Cib8XM",
        "outputId": "5b0ad1f7-e4ca-4c34-ac01-54a88c6118b4"
      },
      "execution_count": null,
      "outputs": [
        {
          "output_type": "execute_result",
          "data": {
            "text/plain": [
              "<StemContainer object of 3 artists>"
            ]
          },
          "metadata": {},
          "execution_count": 107
        },
        {
          "output_type": "display_data",
          "data": {
            "image/png": "[encoded data removed]",
            "text/plain": [
              "<Figure size 1080x504 with 2 Axes>"
            ]
          },
          "metadata": {
            "needs_background": "light"
          }
        }
      ]
    },
    {
      "cell_type": "markdown",
      "source": [
        "###Time Scaling"
      ],
      "metadata": {
        "id": "agpEqRHEeT-K"
      }
    },
    {
      "cell_type": "code",
      "source": [
        "n1 = np.arange(0,9,1)\n",
        "n2 = np.arange(0,18,1)\n",
        "\n",
        "x = [1,2,3,4,5,4,3,2,1]\n",
        "\n",
        "plt.stem(n,x, linefmt=\"r*-\" , markerfmt=\"D\")\n",
        "plt.xlabel(\"n (0-10) --->\")\n",
        "plt.ylabel(\"Value of signal\")\n",
        "plt.title(\"Original Signal\")\n"
      ],
      "metadata": {
        "colab": {
          "base_uri": "https://localhost:8080/",
          "height": 333
        },
        "id": "6hnvWxNtcjEo",
        "outputId": "0a72ffe5-6544-46a2-fb9c-08dd19552861"
      },
      "execution_count": null,
      "outputs": [
        {
          "output_type": "execute_result",
          "data": {
            "text/plain": [
              "Text(0.5, 1.0, 'Original Signal')"
            ]
          },
          "metadata": {},
          "execution_count": 103
        },
        {
          "output_type": "display_data",
          "data": {
            "image/png": "[encoded data removed]",
            "text/plain": [
              "<Figure size 432x288 with 1 Axes>"
            ]
          },
          "metadata": {
            "needs_background": "light"
          }
        }
      ]
    },
    {
      "cell_type": "code",
      "source": [
        "# For 2n\n",
        "\n",
        "y1 = []\n",
        "for i in range(len(n)):\n",
        "    if i%2==0:\n",
        "        y1.append(x[i])\n",
        "\n",
        "    else:\n",
        "        y1.append(0)\n",
        "\n",
        "y1"
      ],
      "metadata": {
        "colab": {
          "base_uri": "https://localhost:8080/"
        },
        "id": "RDmBf-C5gpKw",
        "outputId": "97b860d7-39dc-4cb3-8688-34f66471cb02"
      },
      "execution_count": null,
      "outputs": [
        {
          "output_type": "execute_result",
          "data": {
            "text/plain": [
              "[1, 0, 3, 0, 5, 0, 3, 0, 1]"
            ]
          },
          "metadata": {},
          "execution_count": 98
        }
      ]
    },
    {
      "cell_type": "code",
      "source": [
        "# For n/2\n",
        "\n",
        "y2 = []\n",
        "for i in range(len(n)):\n",
        "    y2.append(x[i])\n",
        "    y2.append(0)\n",
        "\n",
        "y2\n"
      ],
      "metadata": {
        "colab": {
          "base_uri": "https://localhost:8080/"
        },
        "id": "r-tZlEoLhSUp",
        "outputId": "db565126-e24f-401d-ef4d-574c26569fdb"
      },
      "execution_count": null,
      "outputs": [
        {
          "output_type": "execute_result",
          "data": {
            "text/plain": [
              "[1, 0, 2, 0, 3, 0, 4, 0, 5, 0, 4, 0, 3, 0, 2, 0, 1, 0]"
            ]
          },
          "metadata": {},
          "execution_count": 99
        }
      ]
    },
    {
      "cell_type": "code",
      "source": [
        "plt.figure(figsize=(15,6))\n",
        "\n",
        "plt.subplot(1,2,1)\n",
        "plt.xlabel(\"n (0-9) --->\")\n",
        "plt.ylabel(\"Value of the signal\")\n",
        "plt.title(\"x(2n) - DOWNSCALING\")\n",
        "plt.stem(n1,y1, linefmt=\"y*-\" , markerfmt=\"D\")\n",
        "\n",
        "plt.subplot(1,2,2)\n",
        "plt.xlabel(\"n (0-18) --->\")\n",
        "plt.ylabel(\"Value of the signal\")\n",
        "plt.title(\"x(n/2) - UPSCALING\")\n",
        "plt.stem(n2,y2, linefmt=\"g*-\" , markerfmt=\"D\")"
      ],
      "metadata": {
        "colab": {
          "base_uri": "https://localhost:8080/",
          "height": 442
        },
        "id": "icQLp_cRibMP",
        "outputId": "2633be70-800c-41ba-b65c-f405124c918d"
      },
      "execution_count": null,
      "outputs": [
        {
          "output_type": "execute_result",
          "data": {
            "text/plain": [
              "<StemContainer object of 3 artists>"
            ]
          },
          "metadata": {},
          "execution_count": 101
        },
        {
          "output_type": "display_data",
          "data": {
            "image/png": "[encoded data removed]",
            "text/plain": [
              "<Figure size 1080x432 with 2 Axes>"
            ]
          },
          "metadata": {
            "needs_background": "light"
          }
        }
      ]
    },
    {
      "cell_type": "markdown",
      "source": [
        "###Addition"
      ],
      "metadata": {
        "id": "m45TDe7J2EwN"
      }
    },
    {
      "cell_type": "code",
      "source": [
        "n1 = np.arange(0,9,1)\n",
        "x1 = [1,2,3,4,5,4,3,2,1]"
      ],
      "metadata": {
        "id": "mENtStmx2F1S"
      },
      "execution_count": null,
      "outputs": []
    },
    {
      "cell_type": "code",
      "source": [
        "k = 3\n",
        "n2 = np.arange(0,len(n1)+k,1)\n",
        "x2 = []\n",
        "\n",
        "for i in range(k):\n",
        "    x2.append(0)\n",
        "    \n",
        "for i in x1:\n",
        "    x2.append(i+k)\n",
        "\n",
        "x2"
      ],
      "metadata": {
        "colab": {
          "base_uri": "https://localhost:8080/"
        },
        "id": "Xn42UWYc_dAs",
        "outputId": "c5a0ca63-2bfb-4222-d38b-56eb2eea87e2"
      },
      "execution_count": null,
      "outputs": [
        {
          "output_type": "execute_result",
          "data": {
            "text/plain": [
              "[0, 0, 0, 4, 5, 6, 7, 8, 7, 6, 5, 4]"
            ]
          },
          "metadata": {},
          "execution_count": 93
        }
      ]
    },
    {
      "cell_type": "code",
      "source": [
        "plt.figure(figsize=(15,6))\n",
        "\n",
        "# Original Signal\n",
        "plt.subplot(1,2,1)\n",
        "plt.stem(n1,x1, linefmt=\"y*-\" , markerfmt=\"D\")\n",
        "plt.xlabel(\"n (0-10) --->\")\n",
        "plt.ylabel(\"Value of the signal\")\n",
        "plt.title(\"Original Signal\")\n",
        "\n",
        "\n",
        "#. Addition by K\n",
        "plt.subplot(1,2,2)\n",
        "plt.stem(n2,x2, linefmt=\"g*-\" , markerfmt=\"D\")\n",
        "plt.xlabel(\"n (0-10+k) --->\")\n",
        "plt.ylabel(\"Value of the signal\")\n",
        "plt.title(\"Addition by K\")"
      ],
      "metadata": {
        "colab": {
          "base_uri": "https://localhost:8080/",
          "height": 442
        },
        "id": "TZbL_4Ul2qSq",
        "outputId": "5bd08c29-5e09-4c24-b26b-08a280a15e49"
      },
      "execution_count": null,
      "outputs": [
        {
          "output_type": "execute_result",
          "data": {
            "text/plain": [
              "Text(0.5, 1.0, 'Addition by K')"
            ]
          },
          "metadata": {},
          "execution_count": 95
        },
        {
          "output_type": "display_data",
          "data": {
            "image/png": "[encoded data removed]",
            "text/plain": [
              "<Figure size 1080x432 with 2 Axes>"
            ]
          },
          "metadata": {
            "needs_background": "light"
          }
        }
      ]
    },
    {
      "cell_type": "markdown",
      "source": [
        "### Sine Wave"
      ],
      "metadata": {
        "id": "xx0JY8BU4sOe"
      }
    },
    {
      "cell_type": "code",
      "source": [
        "#plotting sine wave\n",
        "\n",
        "# x=A*sin(2*pi*f*t)\n",
        "\n",
        "t = np.arange(0,1,0.1) # 10 parts\n",
        "# For smoother curve we make 100 parts\n",
        "# t = np.arange(0,1,0.1) # 100 parts\n",
        "f = 2\n",
        "A = 1\n",
        "x = A*np.sin(2*np.pi*f*t)\n",
        "y = A*np.cos(2*np.pi*f*t)"
      ],
      "metadata": {
        "id": "PBqirfYC4sad"
      },
      "execution_count": null,
      "outputs": []
    },
    {
      "cell_type": "code",
      "source": [
        "x"
      ],
      "metadata": {
        "colab": {
          "base_uri": "https://localhost:8080/"
        },
        "id": "oZXx-dTv5JUQ",
        "outputId": "f72c125d-a790-4f8c-f62b-005faed12752"
      },
      "execution_count": null,
      "outputs": [
        {
          "output_type": "execute_result",
          "data": {
            "text/plain": [
              "array([ 0.00000000e+00,  9.51056516e-01,  5.87785252e-01, -5.87785252e-01,\n",
              "       -9.51056516e-01, -2.44929360e-16,  9.51056516e-01,  5.87785252e-01,\n",
              "       -5.87785252e-01, -9.51056516e-01])"
            ]
          },
          "metadata": {},
          "execution_count": 66
        }
      ]
    },
    {
      "cell_type": "code",
      "source": [
        "#Rounding off the values of x\n",
        "x1 = []\n",
        "for i in range(len(x)):\n",
        "    temp = round(x[i])\n",
        "    x1.append(temp)\n",
        "x1\n",
        "    "
      ],
      "metadata": {
        "colab": {
          "base_uri": "https://localhost:8080/"
        },
        "id": "inSn1pki6En7",
        "outputId": "9c1f8c44-87db-4cde-a456-0ad538f467d4"
      },
      "execution_count": null,
      "outputs": [
        {
          "output_type": "execute_result",
          "data": {
            "text/plain": [
              "[0, 1, 1, -1, -1, 0, 1, 1, -1, -1]"
            ]
          },
          "metadata": {},
          "execution_count": 70
        }
      ]
    },
    {
      "cell_type": "code",
      "source": [
        "plt.figure(figsize=(20,6))\n",
        "\n",
        "plt.subplot(1,3,1)\n",
        "plt.xlabel(\"Time --->\")\n",
        "plt.ylabel(\"Value of the signal\")\n",
        "plt.title(\"Continous Time Continous Value\")\n",
        "plt.plot(t,x, 'r*-')\n",
        "# The curve is not smooth because we have made only 10 parts\n",
        "\n",
        "\n",
        "plt.subplot(1,3,2)\n",
        "plt.xlabel(\"Time --->\")\n",
        "plt.ylabel(\"Value of the signal\")\n",
        "plt.title(\"Discrete Time Continous Value\")\n",
        "plt.stem(t,x,'g*-',linefmt='g*-', markerfmt='D')\n",
        "\n",
        "plt.subplot(1,3,3)\n",
        "plt.xlabel(\"Time --->\")\n",
        "plt.ylabel(\"Value of the signal\")\n",
        "plt.title(\"Discrete Time Discrete Value\")\n",
        "plt.stem(t,x1, linefmt='y*-', markerfmt='D')\n"
      ],
      "metadata": {
        "colab": {
          "base_uri": "https://localhost:8080/",
          "height": 392
        },
        "id": "XlsikPXR6j1J",
        "outputId": "8e2ccafd-91bd-4127-e4e5-8de20a7de36f"
      },
      "execution_count": null,
      "outputs": [
        {
          "output_type": "execute_result",
          "data": {
            "text/plain": [
              "<StemContainer object of 3 artists>"
            ]
          },
          "metadata": {},
          "execution_count": 86
        },
        {
          "output_type": "display_data",
          "data": {
            "image/png": "[encoded data removed]",
            "text/plain": [
              "<Figure size 1440x432 with 3 Axes>"
            ]
          },
          "metadata": {
            "needs_background": "light"
          }
        }
      ]
    },
    {
      "cell_type": "markdown",
      "source": [
        "### Conclusion"
      ],
      "metadata": {
        "id": "L-UV9zLq-zwr"
      }
    },
    {
      "cell_type": "markdown",
      "source": [
        "1. In the Ramp Signal - we observed the graph rising like a ramp\n",
        "\n",
        "2. In Unit Step Signal - we observe the Value of the Graph at 1 constantly after n crosses 0\n",
        "\n",
        "3. In the Unit Impulse we observe the Impulse (positive value of signal) only at n = 0.\n",
        "Rest all values are 0\n",
        "\n",
        "4. In the Discrete Exponential we observe that Values of the Graphs are exactly opposite for a>1 and 0<a<1\n",
        "and for a<-1 and -1<a<0\n",
        "\n",
        "5. For the time reversed Signal - All the signal values at +ve n are shifted to -ve n. 0 value remaining the same\n",
        "\n",
        "6. In time scaling we saw Upsampling and Downsampling - where data is generated and removed from the original data respectively, both having their own uses in Signal Processing.\n",
        "\n",
        "7. Addition we saw the graphs moving towards the right - by the value k\n",
        "\n",
        "8. In the sine wave - we saw \n",
        "\n",
        "    a. continuous time and continuous value \n",
        "\n",
        "    b. discrete time and continuous value\n",
        "\n",
        "    c. discrete time and discrete value\n",
        "\n"
      ],
      "metadata": {
        "id": "-GkOHLhZ-1u4"
      }
    }
  ]
}
